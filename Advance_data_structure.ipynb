{
  "nbformat": 4,
  "nbformat_minor": 0,
  "metadata": {
    "colab": {
      "provenance": [],
      "authorship_tag": "ABX9TyMrVk320wlXc+Qi1Do1I6ZP",
      "include_colab_link": true
    },
    "kernelspec": {
      "name": "python3",
      "display_name": "Python 3"
    },
    "language_info": {
      "name": "python"
    }
  },
  "cells": [
    {
      "cell_type": "markdown",
      "metadata": {
        "id": "view-in-github",
        "colab_type": "text"
      },
      "source": [
        "<a href=\"https://colab.research.google.com/github/Techworld108/Advance-data-structure-lab/blob/main/Advance_data_structure.ipynb\" target=\"_parent\"><img src=\"https://colab.research.google.com/assets/colab-badge.svg\" alt=\"Open In Colab\"/></a>"
      ]
    },
    {
      "cell_type": "markdown",
      "source": [
        "#Advance Data Structure\n",
        "\n"
      ],
      "metadata": {
        "id": "X_uGTb_4hWR-"
      }
    },
    {
      "cell_type": "markdown",
      "source": [
        "###Assignment-1\n"
      ],
      "metadata": {
        "id": "8DX_oeDehY7B"
      }
    },
    {
      "cell_type": "markdown",
      "source": [
        "###Knapsack Problem:"
      ],
      "metadata": {
        "id": "ebTjsQ4BcJrn"
      }
    },
    {
      "cell_type": "code",
      "source": [
        "def knapsack(values, weights, capacity):\n",
        "    n = len(values)\n",
        "    dp = [[0] * (capacity + 1) for _ in range(n + 1)]\n",
        "\n",
        "    for i in range(1, n + 1):\n",
        "        for w in range(1, capacity + 1):\n",
        "            if weights[i - 1] <= w:\n",
        "                dp[i][w] = max(values[i - 1] + dp[i - 1][w - weights[i - 1]], dp[i - 1][w])\n",
        "            else:\n",
        "                dp[i][w] = dp[i - 1][w]\n",
        "\n",
        "    return dp[n][capacity]\n",
        "\n",
        "# Example usage:\n",
        "values = [60, 100, 120]\n",
        "weights = [10, 20, 30]\n",
        "capacity = 50\n",
        "result = knapsack(values, weights, capacity)\n",
        "print(\"Knapsack result:\", result)\n"
      ],
      "metadata": {
        "colab": {
          "base_uri": "https://localhost:8080/"
        },
        "id": "nrXNZe7Hh98M",
        "outputId": "88e4c98c-7a97-4cb4-ab59-ea11ea1030dd"
      },
      "execution_count": null,
      "outputs": [
        {
          "output_type": "stream",
          "name": "stdout",
          "text": [
            "Knapsack result: 220\n"
          ]
        }
      ]
    },
    {
      "cell_type": "markdown",
      "source": [
        "###Traveling Salesperson Problem (TSP):"
      ],
      "metadata": {
        "id": "YKf-zjjicmOP"
      }
    },
    {
      "cell_type": "code",
      "source": [
        "import itertools\n",
        "\n",
        "def tsp_bruteforce(graph):\n",
        "    n = len(graph)\n",
        "    cities = list(range(n))\n",
        "    min_distance = float('inf')\n",
        "    optimal_path = None\n",
        "\n",
        "    for path in itertools.permutations(cities):\n",
        "        distance = sum(graph[path[i - 1]][path[i]] for i in range(n))\n",
        "        distance += graph[path[-1]][path[0]]  # Return to the starting city\n",
        "\n",
        "        if distance < min_distance:\n",
        "            min_distance = distance\n",
        "            optimal_path = path\n",
        "\n",
        "    return min_distance, optimal_path\n",
        "\n",
        "# Example usage:\n",
        "graph = [\n",
        "    [0, 10, 15, 20],\n",
        "    [10, 0, 35, 25],\n",
        "    [15, 35, 0, 30],\n",
        "    [20, 25, 30, 0]\n",
        "]\n",
        "result_tsp = tsp_bruteforce(graph)\n",
        "print(\"TSP result:\", result_tsp)\n"
      ],
      "metadata": {
        "colab": {
          "base_uri": "https://localhost:8080/"
        },
        "id": "5gRNHJLycllq",
        "outputId": "5c198f29-2dda-4e40-d553-0d0adaf28ef6"
      },
      "execution_count": null,
      "outputs": [
        {
          "output_type": "stream",
          "name": "stdout",
          "text": [
            "TSP result: (90, (0, 2, 3, 1))\n"
          ]
        }
      ]
    },
    {
      "cell_type": "markdown",
      "source": [
        "###Genetic Algorithm:"
      ],
      "metadata": {
        "id": "z6WfXq-NdiGt"
      }
    },
    {
      "cell_type": "code",
      "source": [
        "import numpy as np\n",
        "\n",
        "def objective_function(x):\n",
        "    return sum(x)\n",
        "\n",
        "def mutate(child, mutation_rate):\n",
        "    # Implement your mutation logic here\n",
        "    return child\n",
        "\n",
        "def ga_optimization(objective_function, dimension=10, population_size=50, generations=100, mutation_rate=0.1):\n",
        "    population = np.random.rand(population_size, dimension)\n",
        "\n",
        "    parents = np.random.rand(population_size, dimension)  # Initialize parents array\n",
        "\n",
        "    for generation in range(generations):\n",
        "        fitness = [objective_function(ind) for ind in population]\n",
        "        sorted_indices = np.argsort(fitness)\n",
        "        sorted_population = population[sorted_indices]\n",
        "\n",
        "        parents = sorted_population[:population_size // 2]\n",
        "\n",
        "        offspring = []\n",
        "        for i in range(population_size // 2):\n",
        "            parent1, parent2 = np.random.choice(parents, size=2, replace=False)\n",
        "            child = np.concatenate((parent1[:dimension//2], parent2[dimension//2:]))\n",
        "            child = mutate(child, mutation_rate)\n",
        "            offspring.append(child)\n",
        "\n",
        "        population = np.vstack((parents, np.array(offspring)))\n",
        "\n",
        "    best_solution = parents[0]\n",
        "    best_fitness = objective_function(best_solution)\n",
        "    return best_solution, best_fitness\n",
        "\n",
        "# Example usage:\n",
        "#best_solution_ga, best_fitness_ga = ga_optimization(objective_function)\n",
        "#print(\"Genetic Algorithm result:\", best_solution_ga)\n",
        "#print(\"Genetic Algorithm fitness:\", best_fitness_ga)"
      ],
      "metadata": {
        "id": "B7SQhaQxOqYf"
      },
      "execution_count": null,
      "outputs": []
    },
    {
      "cell_type": "markdown",
      "source": [
        "Efficiency Discussion:\n",
        "\n",
        "###Knapsack Problem:\n",
        "\n",
        "The provided dynamic programming solution has a time complexity of O(n * capacity), where n is the number of items. It is efficient for small to moderately-sized instances of the knapsack problem.\n",
        "\n",
        "###Traveling Salesperson Problem (TSP):\n",
        "\n",
        "The provided brute-force solution has a time complexity of O(n!), where n is the number of cities. It becomes inefficient for larger instances of TSP due to the factorial growth.\n",
        "\n",
        "###Genetic Algorithm:\n",
        "\n",
        "The efficiency of the genetic algorithm depends on the parameters and problem complexity. Generally, it's suitable for optimization problems, and its effectiveness increases with the population size and number of generations. The provided implementation is a basic example, and further parameter tuning may be necessary for more complex problems."
      ],
      "metadata": {
        "id": "_3g0RUtlenkA"
      }
    },
    {
      "cell_type": "markdown",
      "source": [
        "#Assignment-2"
      ],
      "metadata": {
        "id": "pIERokepgUlH"
      }
    },
    {
      "cell_type": "code",
      "source": [
        "class Graph:\n",
        "    def __init__(self, vertices):\n",
        "        self.V = vertices\n",
        "        self.graph = [[0] * self.V for _ in range(self.V)]\n",
        "\n",
        "    def add_edge(self, u, v, capacity):\n",
        "        self.graph[u][v] = capacity\n",
        "\n",
        "    def ford_fulkerson(self, source, sink):\n",
        "        parent = [-1] * self.V\n",
        "        max_flow = 0\n",
        "\n",
        "        while self.bfs(source, sink, parent):\n",
        "            path_flow = float('inf')\n",
        "            s = sink\n",
        "\n",
        "            while s != source:\n",
        "                path_flow = min(path_flow, self.graph[parent[s]][s])\n",
        "                s = parent[s]\n",
        "\n",
        "            max_flow += path_flow\n",
        "\n",
        "            v = sink\n",
        "            while v != source:\n",
        "                u = parent[v]\n",
        "                self.graph[u][v] -= path_flow\n",
        "                self.graph[v][u] += path_flow\n",
        "                v = parent[v]\n",
        "\n",
        "        return max_flow\n",
        "\n",
        "    def bfs(self, s, t, parent):\n",
        "        visited = [False] * self.V\n",
        "        queue = []\n",
        "\n",
        "        queue.append(s)\n",
        "        visited[s] = True\n",
        "\n",
        "        while queue:\n",
        "            u = queue.pop(0)\n",
        "\n",
        "            for ind, val in enumerate(self.graph[u]):\n",
        "                if not visited[ind] and val > 0:\n",
        "                    queue.append(ind)\n",
        "                    visited[ind] = True\n",
        "                    parent[ind] = u\n",
        "\n",
        "        return visited[t]\n",
        "\n",
        "# Example usage:\n",
        "g = Graph(6)\n",
        "g.add_edge(0, 1, 10)\n",
        "g.add_edge(0, 2, 10)\n",
        "g.add_edge(1, 2, 2)\n",
        "g.add_edge(1, 3, 4)\n",
        "g.add_edge(1, 4, 8)\n",
        "g.add_edge(2, 4, 9)\n",
        "g.add_edge(3, 5, 10)\n",
        "g.add_edge(4, 3, 6)\n",
        "g.add_edge(4, 5, 10)\n",
        "\n",
        "source, sink = 0, 5\n",
        "max_flow = g.ford_fulkerson(source, sink)\n",
        "print(f\"Maximum flow from {source} to {sink} is {max_flow}\")\n"
      ],
      "metadata": {
        "colab": {
          "base_uri": "https://localhost:8080/"
        },
        "id": "ByacR1C8e1iu",
        "outputId": "81eede45-a7c2-4074-c9a0-029c72275c61"
      },
      "execution_count": null,
      "outputs": [
        {
          "output_type": "stream",
          "name": "stdout",
          "text": [
            "Maximum flow from 0 to 5 is 19\n"
          ]
        }
      ]
    },
    {
      "cell_type": "markdown",
      "source": [
        "Limitations and Issues:\n",
        "\n",
        "###Complexity of Paths:\n",
        "\n",
        "The Ford-Fulkerson algorithm may not terminate if paths with positive capacity exist but have an infinite number of augmenting paths. This is known as the \"augmenting path problem.\"\n",
        "\n",
        "###Non-Integer Capacities:\n",
        "\n",
        "The algorithm assumes integer capacities. If capacities are real numbers or fractions, rounding errors may lead to incorrect results.\n",
        "\n",
        "###Dependence on Initial Flow:\n",
        "\n",
        "The algorithm is sensitive to the initial flow assignment. Different initial flows may result in different solutions.\n",
        "\n",
        "###Lack of Guarantee for Termination:\n",
        "\n",
        "Ford-Fulkerson doesn't guarantee termination for all cases. The algorithm can loop indefinitely for certain input configurations.\n",
        "\n",
        "###Bipartite Matching:\n",
        "\n",
        "Ford-Fulkerson can be used for finding maximum bipartite matching. However, the algorithm's limitations, especially non-termination in certain cases, make it less reliable for practical bipartite matching problems.\n",
        "\n",
        "###Conclusion:\n",
        "\n",
        "While Ford-Fulkerson is a fundamental algorithm for solving the maximum flow problem, its limitations highlight the importance of considering alternative algorithms like Edmonds-Karp (which ensures termination) or more advanced approaches like the Push-Relabel algorithm. For bipartite matching, specialized algorithms like Hopcroft-Karp are often more suitable and reliable."
      ],
      "metadata": {
        "id": "izxa1O65gc34"
      }
    },
    {
      "cell_type": "markdown",
      "source": [
        "#Assignment-3"
      ],
      "metadata": {
        "id": "dtMp2fEmiJqW"
      }
    },
    {
      "cell_type": "markdown",
      "source": [],
      "metadata": {
        "id": "B7htnE2TivQv"
      }
    },
    {
      "cell_type": "code",
      "source": [
        "def rabin_karp(text, pattern):\n",
        "    d = 256  # Number of characters in the input alphabet\n",
        "    q = 101  # A prime number\n",
        "\n",
        "    m, n = len(pattern), len(text)\n",
        "    h_pattern, h_text = 0, 0\n",
        "    result = []\n",
        "\n",
        "    for i in range(m):\n",
        "        h_pattern = (d * h_pattern + ord(pattern[i])) % q\n",
        "        h_text = (d * h_text + ord(text[i])) % q\n",
        "\n",
        "    for i in range(n - m + 1):\n",
        "        if h_pattern == h_text:\n",
        "            if text[i:i+m] == pattern:\n",
        "                result.append(i)\n",
        "\n",
        "        if i < n - m:\n",
        "            h_text = (d * (h_text - ord(text[i]) * pow(d, m-1, q)) + ord(text[i + m])) % q\n",
        "            if h_text < 0:\n",
        "                h_text += q\n",
        "\n",
        "    return result\n",
        "\n",
        "# Example usage:\n",
        "text = \"AABAACAADAABAABA\"\n",
        "pattern = \"AABA\"\n",
        "result_rk = rabin_karp(text, pattern)\n",
        "print(\"Rabin-Karp matches:\", result_rk)\n"
      ],
      "metadata": {
        "colab": {
          "base_uri": "https://localhost:8080/"
        },
        "id": "Q5fy4k6nhG4G",
        "outputId": "44e315ae-32b7-4123-e64d-8ff595c6a2c7"
      },
      "execution_count": null,
      "outputs": [
        {
          "output_type": "stream",
          "name": "stdout",
          "text": [
            "Rabin-Karp matches: [0, 9, 12]\n"
          ]
        }
      ]
    },
    {
      "cell_type": "markdown",
      "source": [
        "###Knuth-Morris-Pratt (KMP) Algorithm:\n"
      ],
      "metadata": {
        "id": "LrHc3F_ti_nK"
      }
    },
    {
      "cell_type": "code",
      "source": [
        "def kmp_search(text, pattern):\n",
        "    m, n = len(pattern), len(text)\n",
        "    lps = compute_lps_array(pattern)\n",
        "    result = []\n",
        "\n",
        "    i, j = 0, 0\n",
        "    while i < n:\n",
        "        if pattern[j] == text[i]:\n",
        "            i += 1\n",
        "            j += 1\n",
        "\n",
        "        if j == m:\n",
        "            result.append(i - j)\n",
        "            j = lps[j - 1]\n",
        "        elif i < n and pattern[j] != text[i]:\n",
        "            if j != 0:\n",
        "                j = lps[j - 1]\n",
        "            else:\n",
        "                i += 1\n",
        "\n",
        "    return result\n",
        "\n",
        "def compute_lps_array(pattern):\n",
        "    m = len(pattern)\n",
        "    lps = [0] * m\n",
        "    j, i = 0, 1\n",
        "\n",
        "    while i < m:\n",
        "        if pattern[i] == pattern[j]:\n",
        "            j += 1\n",
        "            lps[i] = j\n",
        "            i += 1\n",
        "        else:\n",
        "            if j != 0:\n",
        "                j = lps[j - 1]\n",
        "            else:\n",
        "                lps[i] = 0\n",
        "                i += 1\n",
        "\n",
        "    return lps\n",
        "\n",
        "# Example usage:\n",
        "text = \"AABAACAADAABAABA\"\n",
        "pattern = \"AABA\"\n",
        "result_kmp = kmp_search(text, pattern)\n",
        "print(\"KMP matches:\", result_kmp)\n"
      ],
      "metadata": {
        "colab": {
          "base_uri": "https://localhost:8080/"
        },
        "id": "ZShPpxXqjG-U",
        "outputId": "3e52361f-9ca3-4743-c645-0475e979cdaf"
      },
      "execution_count": null,
      "outputs": [
        {
          "output_type": "stream",
          "name": "stdout",
          "text": [
            "KMP matches: [0, 9, 12]\n"
          ]
        }
      ]
    },
    {
      "cell_type": "markdown",
      "source": [
        "###Boyer-Moore Algorithm:"
      ],
      "metadata": {
        "id": "eYkkOl4IjMIG"
      }
    },
    {
      "cell_type": "code",
      "source": [
        "def boyer_moore_search(text, pattern):\n",
        "    m, n = len(pattern), len(text)\n",
        "    last_occurrence = last_occurrence_table(pattern)\n",
        "    result = []\n",
        "\n",
        "    i = m - 1\n",
        "    j = m - 1\n",
        "    while i < n:\n",
        "        if pattern[j] == text[i]:\n",
        "            if j == 0:\n",
        "                result.append(i)\n",
        "                i += m\n",
        "            else:\n",
        "                i -= 1\n",
        "                j -= 1\n",
        "        else:\n",
        "            i += m - min(j, 1 + last_occurrence[text[i]])\n",
        "\n",
        "    return result\n",
        "\n",
        "def last_occurrence_table(pattern):\n",
        "    last_occurrence = {}\n",
        "    m = len(pattern)\n",
        "    for i in range(m - 1, -1, -1):\n",
        "        if pattern[i] not in last_occurrence:\n",
        "            last_occurrence[pattern[i]] = i\n",
        "    return last_occurrence\n",
        "\n",
        "# Example usage:\n",
        "#text = \"AABAACAADAABAABA\"\n",
        "#pattern = \"AABA\"\n",
        "#result_bm = boyer_moore_search(text, pattern)\n",
        "#print(\"Boyer-Moore matches:\", result_bm)\n"
      ],
      "metadata": {
        "id": "OubKxqBPjXo1"
      },
      "execution_count": null,
      "outputs": []
    },
    {
      "cell_type": "markdown",
      "source": [],
      "metadata": {
        "id": "C95fNrGYjhNG"
      }
    },
    {
      "cell_type": "markdown",
      "source": [
        "#Assignment-4"
      ],
      "metadata": {
        "id": "k2rhFTKYiDZP"
      }
    },
    {
      "cell_type": "code",
      "source": [
        "import networkx as nx\n",
        "\n",
        "def johnson(graph):\n",
        "    # Step 1: Add a new vertex with zero-weight edges to all other vertices\n",
        "    graph.add_node('dummy')\n",
        "    for node in graph.nodes:\n",
        "        graph.add_edge('dummy', node, weight=0)\n",
        "\n",
        "    # Step 2: Run Bellman-Ford algorithm to find the minimum distances from the dummy node\n",
        "    bellman_ford_result = nx.bellman_ford(graph, 'dummy')\n",
        "    if not bellman_ford_result[1]:\n",
        "        raise ValueError(\"Graph contains a negative-weight cycle\")\n",
        "\n",
        "    # Step 3: Reweight the edges using the results from Bellman-Ford\n",
        "    for edge in graph.edges:\n",
        "        u, v, weight = edge\n",
        "        graph.edges[u, v]['weight'] += bellman_ford_result[0][u] - bellman_ford_result[0][v]\n",
        "\n",
        "    # Step 4: Remove the dummy node\n",
        "    graph.remove_node('dummy')\n",
        "\n",
        "    # Step 5: Run Dijkstra's algorithm for each vertex to find all-pair shortest paths\n",
        "    all_shortest_paths = {}\n",
        "    for node in graph.nodes:\n",
        "        all_shortest_paths[node] = nx.single_source_dijkstra_path_length(graph, node)\n",
        "\n",
        "    return all_shortest_paths\n",
        "\n",
        "# Example usage:\n",
        "#G = nx.DiGraph()\n",
        "#G.add_weighted_edges_from([('A', 'B', 1), ('A', 'C', 3), ('B', 'C', 1), ('B', 'D', 4), ('C', 'D', 1), ('D', 'A', -2)])\n",
        "\n",
        "#result = johnson(G)\n",
        "#print(result)\n"
      ],
      "metadata": {
        "id": "d17SadbmidbN"
      },
      "execution_count": null,
      "outputs": []
    },
    {
      "cell_type": "markdown",
      "source": [
        "#Assignment-5"
      ],
      "metadata": {
        "id": "eYCOeqqhkCHU"
      }
    },
    {
      "cell_type": "code",
      "source": [
        "import random\n",
        "\n",
        "def quicksort(arr):\n",
        "    if len(arr) <= 1:\n",
        "        return arr\n",
        "\n",
        "    pivot = random.choice(arr)\n",
        "    lesser = [x for x in arr if x < pivot]\n",
        "    equal = [x for x in arr if x == pivot]\n",
        "    greater = [x for x in arr if x > pivot]\n",
        "\n",
        "    return quicksort(lesser) + equal + quicksort(greater)\n",
        "\n",
        "# Example usage:\n",
        "arr = [3, 1, 4, 1, 5, 9, 2, 6, 5, 3, 5]\n",
        "sorted_arr = quicksort(arr)\n",
        "print(sorted_arr)\n"
      ],
      "metadata": {
        "id": "miVfZcdMiUbJ",
        "colab": {
          "base_uri": "https://localhost:8080/"
        },
        "outputId": "62b009eb-c1a9-40fa-e4de-9716d5cd1409"
      },
      "execution_count": null,
      "outputs": [
        {
          "output_type": "stream",
          "name": "stdout",
          "text": [
            "[1, 1, 2, 3, 3, 4, 5, 5, 5, 6, 9]\n"
          ]
        }
      ]
    },
    {
      "cell_type": "markdown",
      "source": [
        "###Average Case:\n",
        "\n",
        "\n",
        "Time Complexity: O(n log n)\n",
        "\n",
        "Space Complexity: O(log n)\n",
        "\n",
        "###Worst Case:\n",
        "\n",
        "\n",
        "Time Complexity: O(n^2)\n",
        "\n",
        "Space Complexity: O(n)\n",
        "\n",
        "###Best Case:\n",
        "\n",
        "\n",
        "Time Complexity: O(n log n)\n",
        "\n",
        "Space Complexity: O(log n)"
      ],
      "metadata": {
        "id": "uBHaFl48kUSc"
      }
    },
    {
      "cell_type": "markdown",
      "source": [
        "#Assignment-6\n"
      ],
      "metadata": {
        "id": "QN2BlVgUkPZj"
      }
    },
    {
      "cell_type": "code",
      "source": [
        "from collections import defaultdict\n",
        "from queue import Queue\n",
        "\n",
        "class EdmondsKarp:\n",
        "    def __init__(self, graph):\n",
        "        self.graph = graph\n",
        "        self.source = 's'\n",
        "        self.sink = 't'\n",
        "\n",
        "    def bfs(self, parent):\n",
        "        visited = {node: False for node in self.graph}\n",
        "        queue = Queue()\n",
        "        queue.put(self.source)\n",
        "        visited[self.source] = True\n",
        "\n",
        "        while not queue.empty():\n",
        "            u = queue.get()\n",
        "            for v, capacity in self.graph[u].items():\n",
        "                if visited[v] == False and capacity > 0:\n",
        "                    queue.put(v)\n",
        "                    visited[v] = True\n",
        "                    parent[v] = u\n",
        "        return visited[self.sink]\n",
        "\n",
        "    def edmonds_karp(self):\n",
        "        parent = {node: None for node in self.graph}\n",
        "        max_flow = 0\n",
        "\n",
        "        while self.bfs(parent):\n",
        "            path_flow = float('inf')\n",
        "            s = self.sink\n",
        "            while s != self.source:\n",
        "                path_flow = min(path_flow, self.graph[parent[s]][s])\n",
        "                s = parent[s]\n",
        "\n",
        "            max_flow += path_flow\n",
        "            v = self.sink\n",
        "            while v != self.source:\n",
        "                u = parent[v]\n",
        "                self.graph[u][v] -= path_flow\n",
        "                self.graph[v][u] += path_flow\n",
        "                v = parent[v]\n",
        "\n",
        "        return max_flow\n",
        "\n",
        "# Example usage:\n",
        "graph = {\n",
        "    's': {'A': 10, 'B': 5},\n",
        "    'A': {'B': 15, 't': 10},\n",
        "    'B': {'t': 10},\n",
        "    't': {}\n",
        "}\n",
        "\n",
        "ek = EdmondsKarp(graph)\n",
        "max_flow = ek.edmonds_karp()\n",
        "print(\"Maximum flow:\", max_flow)\n"
      ],
      "metadata": {
        "colab": {
          "base_uri": "https://localhost:8080/",
          "height": 349
        },
        "id": "sTX0xRvtkzq3",
        "outputId": "668d3f53-bc05-450f-cb23-d70fb07384eb"
      },
      "execution_count": null,
      "outputs": [
        {
          "output_type": "error",
          "ename": "KeyError",
          "evalue": "'A'",
          "traceback": [
            "\u001b[0;31m---------------------------------------------------------------------------\u001b[0m",
            "\u001b[0;31mKeyError\u001b[0m                                  Traceback (most recent call last)",
            "\u001b[0;32m<ipython-input-21-d9ef3aeacfca>\u001b[0m in \u001b[0;36m<cell line: 55>\u001b[0;34m()\u001b[0m\n\u001b[1;32m     53\u001b[0m \u001b[0;34m\u001b[0m\u001b[0m\n\u001b[1;32m     54\u001b[0m \u001b[0mek\u001b[0m \u001b[0;34m=\u001b[0m \u001b[0mEdmondsKarp\u001b[0m\u001b[0;34m(\u001b[0m\u001b[0mgraph\u001b[0m\u001b[0;34m)\u001b[0m\u001b[0;34m\u001b[0m\u001b[0;34m\u001b[0m\u001b[0m\n\u001b[0;32m---> 55\u001b[0;31m \u001b[0mmax_flow\u001b[0m \u001b[0;34m=\u001b[0m \u001b[0mek\u001b[0m\u001b[0;34m.\u001b[0m\u001b[0medmonds_karp\u001b[0m\u001b[0;34m(\u001b[0m\u001b[0;34m)\u001b[0m\u001b[0;34m\u001b[0m\u001b[0;34m\u001b[0m\u001b[0m\n\u001b[0m\u001b[1;32m     56\u001b[0m \u001b[0mprint\u001b[0m\u001b[0;34m(\u001b[0m\u001b[0;34m\"Maximum flow:\"\u001b[0m\u001b[0;34m,\u001b[0m \u001b[0mmax_flow\u001b[0m\u001b[0;34m)\u001b[0m\u001b[0;34m\u001b[0m\u001b[0;34m\u001b[0m\u001b[0m\n",
            "\u001b[0;32m<ipython-input-21-d9ef3aeacfca>\u001b[0m in \u001b[0;36medmonds_karp\u001b[0;34m(self)\u001b[0m\n\u001b[1;32m     39\u001b[0m                 \u001b[0mu\u001b[0m \u001b[0;34m=\u001b[0m \u001b[0mparent\u001b[0m\u001b[0;34m[\u001b[0m\u001b[0mv\u001b[0m\u001b[0;34m]\u001b[0m\u001b[0;34m\u001b[0m\u001b[0;34m\u001b[0m\u001b[0m\n\u001b[1;32m     40\u001b[0m                 \u001b[0mself\u001b[0m\u001b[0;34m.\u001b[0m\u001b[0mgraph\u001b[0m\u001b[0;34m[\u001b[0m\u001b[0mu\u001b[0m\u001b[0;34m]\u001b[0m\u001b[0;34m[\u001b[0m\u001b[0mv\u001b[0m\u001b[0;34m]\u001b[0m \u001b[0;34m-=\u001b[0m \u001b[0mpath_flow\u001b[0m\u001b[0;34m\u001b[0m\u001b[0;34m\u001b[0m\u001b[0m\n\u001b[0;32m---> 41\u001b[0;31m                 \u001b[0mself\u001b[0m\u001b[0;34m.\u001b[0m\u001b[0mgraph\u001b[0m\u001b[0;34m[\u001b[0m\u001b[0mv\u001b[0m\u001b[0;34m]\u001b[0m\u001b[0;34m[\u001b[0m\u001b[0mu\u001b[0m\u001b[0;34m]\u001b[0m \u001b[0;34m+=\u001b[0m \u001b[0mpath_flow\u001b[0m\u001b[0;34m\u001b[0m\u001b[0;34m\u001b[0m\u001b[0m\n\u001b[0m\u001b[1;32m     42\u001b[0m                 \u001b[0mv\u001b[0m \u001b[0;34m=\u001b[0m \u001b[0mparent\u001b[0m\u001b[0;34m[\u001b[0m\u001b[0mv\u001b[0m\u001b[0;34m]\u001b[0m\u001b[0;34m\u001b[0m\u001b[0;34m\u001b[0m\u001b[0m\n\u001b[1;32m     43\u001b[0m \u001b[0;34m\u001b[0m\u001b[0m\n",
            "\u001b[0;31mKeyError\u001b[0m: 'A'"
          ]
        }
      ]
    },
    {
      "cell_type": "markdown",
      "source": [
        "###Time Complexity:\n",
        "\n",
        "O(VE^2), where V is the number of vertices and E is the number of edges.\n",
        "\n",
        "In practice, the algorithm often performs well due to the use of BFS, which takes advantage of the layering of augmenting paths.\n",
        "\n",
        "###Space Complexity:\n",
        "\n",
        "O(V^2), where V is the number of vertices.\n",
        "\n",
        "This is primarily due to the storage of the residual graph and the parent array."
      ],
      "metadata": {
        "id": "jz5MiqyUloyF"
      }
    },
    {
      "cell_type": "markdown",
      "source": [
        "#Assignment-7"
      ],
      "metadata": {
        "id": "fUloYwu4lDdD"
      }
    },
    {
      "cell_type": "markdown",
      "source": [
        "###Branch and Bound:"
      ],
      "metadata": {
        "id": "4_rcndWdl7RI"
      }
    },
    {
      "cell_type": "code",
      "source": [
        "import sys\n",
        "from itertools import permutations\n",
        "\n",
        "def tsp_branch_and_bound(graph):\n",
        "    n = len(graph)\n",
        "    min_cost = sys.maxsize\n",
        "    path = []\n",
        "\n",
        "    def bound(path):\n",
        "        cost = 0\n",
        "        for i in range(n - 1):\n",
        "            cost += graph[path[i]][path[i + 1]]\n",
        "        return cost + graph[path[-1]][path[0]]\n",
        "\n",
        "    def tsp_bb_util(path, bound, level):\n",
        "        nonlocal min_cost\n",
        "\n",
        "        if level == n - 1:\n",
        "            current_cost = bound + graph[path[-1]][path[0]]\n",
        "            if current_cost < min_cost:\n",
        "                min_cost = current_cost\n",
        "                path.append(path[0])\n",
        "        else:\n",
        "            for city in range(1, n):\n",
        "                if city not in path:\n",
        "                    path.append(city)\n",
        "                    current_bound = bound(path)\n",
        "                    if current_bound < min_cost:\n",
        "                        tsp_bb_util(path, current_bound, level + 1)\n",
        "                    path.pop()\n",
        "\n",
        "    tsp_bb_util([0], 0, 0)\n",
        "    return min_cost, path\n",
        "\n",
        "# Example usage:\n",
        "graph = [\n",
        "    [0, 10, 15, 20],\n",
        "    [10, 0, 35, 25],\n",
        "    [15, 35, 0, 30],\n",
        "    [20, 25, 30, 0]\n",
        "]\n",
        "\n",
        "min_cost, path = tsp_branch_and_bound(graph)\n",
        "print(\"Minimum cost:\", min_cost)\n",
        "print(\"Optimal path:\", path)\n"
      ],
      "metadata": {
        "id": "QwnXMXV-lHGR",
        "colab": {
          "base_uri": "https://localhost:8080/",
          "height": 391
        },
        "outputId": "414b1768-2335-4c15-e005-bd27e720626b"
      },
      "execution_count": null,
      "outputs": [
        {
          "output_type": "error",
          "ename": "TypeError",
          "evalue": "'int' object is not callable",
          "traceback": [
            "\u001b[0;31m---------------------------------------------------------------------------\u001b[0m",
            "\u001b[0;31mTypeError\u001b[0m                                 Traceback (most recent call last)",
            "\u001b[0;32m<ipython-input-25-c52e8ab17dc2>\u001b[0m in \u001b[0;36m<cell line: 43>\u001b[0;34m()\u001b[0m\n\u001b[1;32m     41\u001b[0m ]\n\u001b[1;32m     42\u001b[0m \u001b[0;34m\u001b[0m\u001b[0m\n\u001b[0;32m---> 43\u001b[0;31m \u001b[0mmin_cost\u001b[0m \u001b[0;34m=\u001b[0m \u001b[0mtsp_branch_and_bound\u001b[0m\u001b[0;34m(\u001b[0m\u001b[0mgraph\u001b[0m\u001b[0;34m)\u001b[0m\u001b[0;34m\u001b[0m\u001b[0;34m\u001b[0m\u001b[0m\n\u001b[0m\u001b[1;32m     44\u001b[0m \u001b[0mprint\u001b[0m\u001b[0;34m(\u001b[0m\u001b[0;34m\"Minimum cost:\"\u001b[0m\u001b[0;34m,\u001b[0m \u001b[0mmin_cost\u001b[0m\u001b[0;34m)\u001b[0m\u001b[0;34m\u001b[0m\u001b[0;34m\u001b[0m\u001b[0m\n\u001b[1;32m     45\u001b[0m \u001b[0;31m#print(\"Optimal path:\", path)\u001b[0m\u001b[0;34m\u001b[0m\u001b[0;34m\u001b[0m\u001b[0m\n",
            "\u001b[0;32m<ipython-input-25-c52e8ab17dc2>\u001b[0m in \u001b[0;36mtsp_branch_and_bound\u001b[0;34m(graph)\u001b[0m\n\u001b[1;32m     30\u001b[0m                     \u001b[0mpath\u001b[0m\u001b[0;34m.\u001b[0m\u001b[0mpop\u001b[0m\u001b[0;34m(\u001b[0m\u001b[0;34m)\u001b[0m\u001b[0;34m\u001b[0m\u001b[0;34m\u001b[0m\u001b[0m\n\u001b[1;32m     31\u001b[0m \u001b[0;34m\u001b[0m\u001b[0m\n\u001b[0;32m---> 32\u001b[0;31m     \u001b[0mtsp_bb_util\u001b[0m\u001b[0;34m(\u001b[0m\u001b[0;34m[\u001b[0m\u001b[0;36m0\u001b[0m\u001b[0;34m]\u001b[0m\u001b[0;34m,\u001b[0m \u001b[0;36m0\u001b[0m\u001b[0;34m,\u001b[0m \u001b[0;36m0\u001b[0m\u001b[0;34m)\u001b[0m\u001b[0;34m\u001b[0m\u001b[0;34m\u001b[0m\u001b[0m\n\u001b[0m\u001b[1;32m     33\u001b[0m     \u001b[0;32mreturn\u001b[0m \u001b[0mmin_cost\u001b[0m\u001b[0;34m,\u001b[0m \u001b[0mpath\u001b[0m\u001b[0;34m\u001b[0m\u001b[0;34m\u001b[0m\u001b[0m\n\u001b[1;32m     34\u001b[0m \u001b[0;34m\u001b[0m\u001b[0m\n",
            "\u001b[0;32m<ipython-input-25-c52e8ab17dc2>\u001b[0m in \u001b[0;36mtsp_bb_util\u001b[0;34m(path, bound, level)\u001b[0m\n\u001b[1;32m     25\u001b[0m                 \u001b[0;32mif\u001b[0m \u001b[0mcity\u001b[0m \u001b[0;32mnot\u001b[0m \u001b[0;32min\u001b[0m \u001b[0mpath\u001b[0m\u001b[0;34m:\u001b[0m\u001b[0;34m\u001b[0m\u001b[0;34m\u001b[0m\u001b[0m\n\u001b[1;32m     26\u001b[0m                     \u001b[0mpath\u001b[0m\u001b[0;34m.\u001b[0m\u001b[0mappend\u001b[0m\u001b[0;34m(\u001b[0m\u001b[0mcity\u001b[0m\u001b[0;34m)\u001b[0m\u001b[0;34m\u001b[0m\u001b[0;34m\u001b[0m\u001b[0m\n\u001b[0;32m---> 27\u001b[0;31m                     \u001b[0mcurrent_bound\u001b[0m \u001b[0;34m=\u001b[0m \u001b[0mbound\u001b[0m\u001b[0;34m(\u001b[0m\u001b[0mpath\u001b[0m\u001b[0;34m)\u001b[0m\u001b[0;34m\u001b[0m\u001b[0;34m\u001b[0m\u001b[0m\n\u001b[0m\u001b[1;32m     28\u001b[0m                     \u001b[0;32mif\u001b[0m \u001b[0mcurrent_bound\u001b[0m \u001b[0;34m<\u001b[0m \u001b[0mmin_cost\u001b[0m\u001b[0;34m:\u001b[0m\u001b[0;34m\u001b[0m\u001b[0;34m\u001b[0m\u001b[0m\n\u001b[1;32m     29\u001b[0m                         \u001b[0mtsp_bb_util\u001b[0m\u001b[0;34m(\u001b[0m\u001b[0mpath\u001b[0m\u001b[0;34m,\u001b[0m \u001b[0mcurrent_bound\u001b[0m\u001b[0;34m,\u001b[0m \u001b[0mlevel\u001b[0m \u001b[0;34m+\u001b[0m \u001b[0;36m1\u001b[0m\u001b[0;34m)\u001b[0m\u001b[0;34m\u001b[0m\u001b[0;34m\u001b[0m\u001b[0m\n",
            "\u001b[0;31mTypeError\u001b[0m: 'int' object is not callable"
          ]
        }
      ]
    },
    {
      "cell_type": "markdown",
      "source": [
        "###Dynamic Programming:"
      ],
      "metadata": {
        "id": "wU7TorXnmHBR"
      }
    },
    {
      "cell_type": "code",
      "source": [
        "def tsp_dynamic_programming(graph):\n",
        "    n = len(graph)\n",
        "    memo = {}\n",
        "\n",
        "    def tsp_dp_util(mask, pos):\n",
        "        if mask == (1 << n) - 1:\n",
        "            return graph[pos][0]\n",
        "\n",
        "        if (mask, pos) in memo:\n",
        "            return memo[(mask, pos)]\n",
        "\n",
        "        min_cost = float('inf')\n",
        "        for city in range(n):\n",
        "            if (mask >> city) & 1 == 0:\n",
        "                min_cost = min(\n",
        "                    min_cost,\n",
        "                    graph[pos][city] + tsp_dp_util(mask | (1 << city), city)\n",
        "                )\n",
        "\n",
        "        memo[(mask, pos)] = min_cost\n",
        "        return min_cost\n",
        "\n",
        "    min_cost = tsp_dp_util(1, 0)  # Start from city 0\n",
        "    return min_cost\n",
        "\n",
        "# Example usage:\n",
        "graph = [\n",
        "    [0, 10, 15, 20],\n",
        "    [10, 0, 35, 25],\n",
        "    [15, 35, 0, 30],\n",
        "    [20, 25, 30, 0]\n",
        "]\n",
        "\n",
        "min_cost = tsp_dynamic_programming(graph)\n",
        "print(\"Minimum cost:\", min_cost)\n"
      ],
      "metadata": {
        "colab": {
          "base_uri": "https://localhost:8080/"
        },
        "id": "6L7jPYY7mNO7",
        "outputId": "c8760975-a868-4f70-ebf0-c7797dc7399c"
      },
      "execution_count": null,
      "outputs": [
        {
          "output_type": "stream",
          "name": "stdout",
          "text": [
            "Minimum cost: 80\n"
          ]
        }
      ]
    },
    {
      "cell_type": "markdown",
      "source": [
        "###Genetic Algorithm:"
      ],
      "metadata": {
        "id": "gTfu69fxmUs0"
      }
    },
    {
      "cell_type": "code",
      "source": [
        "import random\n",
        "import numpy as np\n",
        "\n",
        "def tsp_genetic_algorithm(graph, generations, population_size):\n",
        "    n = len(graph)\n",
        "\n",
        "    def calculate_fitness(route):\n",
        "        cost = sum(graph[route[i]][route[i + 1]] for i in range(n - 1))\n",
        "        cost += graph[route[-1]][route[0]]\n",
        "        return 1 / cost\n",
        "\n",
        "    def crossover(parent1, parent2):\n",
        "        crossover_point = random.randint(0, n - 1)\n",
        "        child = np.hstack((parent1[:crossover_point], parent2[crossover_point:]))\n",
        "        return child\n",
        "\n",
        "    def mutate(route):\n",
        "        index1, index2 = random.sample(range(n), 2)\n",
        "        route[index1], route[index2] = route[index2], route[index1]\n",
        "        return route\n",
        "\n",
        "    population = [list(np.random.permutation(range(n))) for _ in range(population_size)]\n",
        "\n",
        "    for generation in range(generations):\n",
        "        fitness_scores = [calculate_fitness(route) for route in population]\n",
        "        sorted_indices = np.argsort(fitness_scores)[::-1]\n",
        "        sorted_population = [population[i] for i in sorted_indices]\n",
        "\n",
        "        elite_size = int(0.2 * population_size)\n",
        "        next_generation = sorted_population[:elite_size]\n",
        "\n",
        "        for _ in range(population_size - elite_size):\n",
        "            parent1, parent2 = random.choices(sorted_population, k=2)\n",
        "            child = crossover(parent1, parent2)\n",
        "            if random.random() < 0.2:\n",
        "                child = mutate(child)\n",
        "            next_generation.append(child)\n",
        "\n",
        "        population = next_generation\n",
        "\n",
        "    best_route = population[0]\n",
        "    min_cost = sum(graph[best_route[i]][best_route[i + 1]] for i in range(n - 1))\n",
        "    min_cost += graph[best_route[-1]][best_route[0]]\n",
        "\n",
        "    return min_cost, best_route\n",
        "\n",
        "# Example usage:\n",
        "graph = [\n",
        "    [0, 10, 15, 20],\n",
        "    [10, 0, 35, 25],\n",
        "    [15, 35, 0, 30],\n",
        "    [20, 25, 30, 0]\n",
        "]\n",
        "\n",
        "min_cost, best_route = tsp_genetic_algorithm(graph, generations=100, population_size=50)\n",
        "print(\"Minimum cost:\", min_cost)\n",
        "print(\"Optimal path:\", best_route)\n"
      ],
      "metadata": {
        "id": "yTtMvHKWmbkd",
        "outputId": "75d14e98-228a-4b8b-a280-5a3a9c0d482b",
        "colab": {
          "base_uri": "https://localhost:8080/",
          "height": 391
        }
      },
      "execution_count": null,
      "outputs": [
        {
          "output_type": "error",
          "ename": "TypeError",
          "evalue": "list indices must be integers or slices, not numpy.float64",
          "traceback": [
            "\u001b[0;31m---------------------------------------------------------------------------\u001b[0m",
            "\u001b[0;31mTypeError\u001b[0m                                 Traceback (most recent call last)",
            "\u001b[0;32m<ipython-input-18-23f0fed60b48>\u001b[0m in \u001b[0;36m<cell line: 55>\u001b[0;34m()\u001b[0m\n\u001b[1;32m     53\u001b[0m ]\n\u001b[1;32m     54\u001b[0m \u001b[0;34m\u001b[0m\u001b[0m\n\u001b[0;32m---> 55\u001b[0;31m \u001b[0mmin_cost\u001b[0m\u001b[0;34m,\u001b[0m \u001b[0mbest_route\u001b[0m \u001b[0;34m=\u001b[0m \u001b[0mtsp_genetic_algorithm\u001b[0m\u001b[0;34m(\u001b[0m\u001b[0mgraph\u001b[0m\u001b[0;34m,\u001b[0m \u001b[0mgenerations\u001b[0m\u001b[0;34m=\u001b[0m\u001b[0;36m100\u001b[0m\u001b[0;34m,\u001b[0m \u001b[0mpopulation_size\u001b[0m\u001b[0;34m=\u001b[0m\u001b[0;36m50\u001b[0m\u001b[0;34m)\u001b[0m\u001b[0;34m\u001b[0m\u001b[0;34m\u001b[0m\u001b[0m\n\u001b[0m\u001b[1;32m     56\u001b[0m \u001b[0mprint\u001b[0m\u001b[0;34m(\u001b[0m\u001b[0;34m\"Minimum cost:\"\u001b[0m\u001b[0;34m,\u001b[0m \u001b[0mmin_cost\u001b[0m\u001b[0;34m)\u001b[0m\u001b[0;34m\u001b[0m\u001b[0;34m\u001b[0m\u001b[0m\n\u001b[1;32m     57\u001b[0m \u001b[0mprint\u001b[0m\u001b[0;34m(\u001b[0m\u001b[0;34m\"Optimal path:\"\u001b[0m\u001b[0;34m,\u001b[0m \u001b[0mbest_route\u001b[0m\u001b[0;34m)\u001b[0m\u001b[0;34m\u001b[0m\u001b[0;34m\u001b[0m\u001b[0m\n",
            "\u001b[0;32m<ipython-input-18-23f0fed60b48>\u001b[0m in \u001b[0;36mtsp_genetic_algorithm\u001b[0;34m(graph, generations, population_size)\u001b[0m\n\u001b[1;32m     23\u001b[0m \u001b[0;34m\u001b[0m\u001b[0m\n\u001b[1;32m     24\u001b[0m     \u001b[0;32mfor\u001b[0m \u001b[0mgeneration\u001b[0m \u001b[0;32min\u001b[0m \u001b[0mrange\u001b[0m\u001b[0;34m(\u001b[0m\u001b[0mgenerations\u001b[0m\u001b[0;34m)\u001b[0m\u001b[0;34m:\u001b[0m\u001b[0;34m\u001b[0m\u001b[0;34m\u001b[0m\u001b[0m\n\u001b[0;32m---> 25\u001b[0;31m         \u001b[0mfitness_scores\u001b[0m \u001b[0;34m=\u001b[0m \u001b[0;34m[\u001b[0m\u001b[0mcalculate_fitness\u001b[0m\u001b[0;34m(\u001b[0m\u001b[0mroute\u001b[0m\u001b[0;34m)\u001b[0m \u001b[0;32mfor\u001b[0m \u001b[0mroute\u001b[0m \u001b[0;32min\u001b[0m \u001b[0mpopulation\u001b[0m\u001b[0;34m]\u001b[0m\u001b[0;34m\u001b[0m\u001b[0;34m\u001b[0m\u001b[0m\n\u001b[0m\u001b[1;32m     26\u001b[0m         \u001b[0msorted_indices\u001b[0m \u001b[0;34m=\u001b[0m \u001b[0mnp\u001b[0m\u001b[0;34m.\u001b[0m\u001b[0margsort\u001b[0m\u001b[0;34m(\u001b[0m\u001b[0mfitness_scores\u001b[0m\u001b[0;34m)\u001b[0m\u001b[0;34m[\u001b[0m\u001b[0;34m:\u001b[0m\u001b[0;34m:\u001b[0m\u001b[0;34m-\u001b[0m\u001b[0;36m1\u001b[0m\u001b[0;34m]\u001b[0m\u001b[0;34m\u001b[0m\u001b[0;34m\u001b[0m\u001b[0m\n\u001b[1;32m     27\u001b[0m         \u001b[0msorted_population\u001b[0m \u001b[0;34m=\u001b[0m \u001b[0;34m[\u001b[0m\u001b[0mpopulation\u001b[0m\u001b[0;34m[\u001b[0m\u001b[0mi\u001b[0m\u001b[0;34m]\u001b[0m \u001b[0;32mfor\u001b[0m \u001b[0mi\u001b[0m \u001b[0;32min\u001b[0m \u001b[0msorted_indices\u001b[0m\u001b[0;34m]\u001b[0m\u001b[0;34m\u001b[0m\u001b[0;34m\u001b[0m\u001b[0m\n",
            "\u001b[0;32m<ipython-input-18-23f0fed60b48>\u001b[0m in \u001b[0;36m<listcomp>\u001b[0;34m(.0)\u001b[0m\n\u001b[1;32m     23\u001b[0m \u001b[0;34m\u001b[0m\u001b[0m\n\u001b[1;32m     24\u001b[0m     \u001b[0;32mfor\u001b[0m \u001b[0mgeneration\u001b[0m \u001b[0;32min\u001b[0m \u001b[0mrange\u001b[0m\u001b[0;34m(\u001b[0m\u001b[0mgenerations\u001b[0m\u001b[0;34m)\u001b[0m\u001b[0;34m:\u001b[0m\u001b[0;34m\u001b[0m\u001b[0;34m\u001b[0m\u001b[0m\n\u001b[0;32m---> 25\u001b[0;31m         \u001b[0mfitness_scores\u001b[0m \u001b[0;34m=\u001b[0m \u001b[0;34m[\u001b[0m\u001b[0mcalculate_fitness\u001b[0m\u001b[0;34m(\u001b[0m\u001b[0mroute\u001b[0m\u001b[0;34m)\u001b[0m \u001b[0;32mfor\u001b[0m \u001b[0mroute\u001b[0m \u001b[0;32min\u001b[0m \u001b[0mpopulation\u001b[0m\u001b[0;34m]\u001b[0m\u001b[0;34m\u001b[0m\u001b[0;34m\u001b[0m\u001b[0m\n\u001b[0m\u001b[1;32m     26\u001b[0m         \u001b[0msorted_indices\u001b[0m \u001b[0;34m=\u001b[0m \u001b[0mnp\u001b[0m\u001b[0;34m.\u001b[0m\u001b[0margsort\u001b[0m\u001b[0;34m(\u001b[0m\u001b[0mfitness_scores\u001b[0m\u001b[0;34m)\u001b[0m\u001b[0;34m[\u001b[0m\u001b[0;34m:\u001b[0m\u001b[0;34m:\u001b[0m\u001b[0;34m-\u001b[0m\u001b[0;36m1\u001b[0m\u001b[0;34m]\u001b[0m\u001b[0;34m\u001b[0m\u001b[0;34m\u001b[0m\u001b[0m\n\u001b[1;32m     27\u001b[0m         \u001b[0msorted_population\u001b[0m \u001b[0;34m=\u001b[0m \u001b[0;34m[\u001b[0m\u001b[0mpopulation\u001b[0m\u001b[0;34m[\u001b[0m\u001b[0mi\u001b[0m\u001b[0;34m]\u001b[0m \u001b[0;32mfor\u001b[0m \u001b[0mi\u001b[0m \u001b[0;32min\u001b[0m \u001b[0msorted_indices\u001b[0m\u001b[0;34m]\u001b[0m\u001b[0;34m\u001b[0m\u001b[0;34m\u001b[0m\u001b[0m\n",
            "\u001b[0;32m<ipython-input-18-23f0fed60b48>\u001b[0m in \u001b[0;36mcalculate_fitness\u001b[0;34m(route)\u001b[0m\n\u001b[1;32m      6\u001b[0m \u001b[0;34m\u001b[0m\u001b[0m\n\u001b[1;32m      7\u001b[0m     \u001b[0;32mdef\u001b[0m \u001b[0mcalculate_fitness\u001b[0m\u001b[0;34m(\u001b[0m\u001b[0mroute\u001b[0m\u001b[0;34m)\u001b[0m\u001b[0;34m:\u001b[0m\u001b[0;34m\u001b[0m\u001b[0;34m\u001b[0m\u001b[0m\n\u001b[0;32m----> 8\u001b[0;31m         \u001b[0mcost\u001b[0m \u001b[0;34m=\u001b[0m \u001b[0msum\u001b[0m\u001b[0;34m(\u001b[0m\u001b[0mgraph\u001b[0m\u001b[0;34m[\u001b[0m\u001b[0mroute\u001b[0m\u001b[0;34m[\u001b[0m\u001b[0mi\u001b[0m\u001b[0;34m]\u001b[0m\u001b[0;34m]\u001b[0m\u001b[0;34m[\u001b[0m\u001b[0mroute\u001b[0m\u001b[0;34m[\u001b[0m\u001b[0mi\u001b[0m \u001b[0;34m+\u001b[0m \u001b[0;36m1\u001b[0m\u001b[0;34m]\u001b[0m\u001b[0;34m]\u001b[0m \u001b[0;32mfor\u001b[0m \u001b[0mi\u001b[0m \u001b[0;32min\u001b[0m \u001b[0mrange\u001b[0m\u001b[0;34m(\u001b[0m\u001b[0mn\u001b[0m \u001b[0;34m-\u001b[0m \u001b[0;36m1\u001b[0m\u001b[0;34m)\u001b[0m\u001b[0;34m)\u001b[0m\u001b[0;34m\u001b[0m\u001b[0;34m\u001b[0m\u001b[0m\n\u001b[0m\u001b[1;32m      9\u001b[0m         \u001b[0mcost\u001b[0m \u001b[0;34m+=\u001b[0m \u001b[0mgraph\u001b[0m\u001b[0;34m[\u001b[0m\u001b[0mroute\u001b[0m\u001b[0;34m[\u001b[0m\u001b[0;34m-\u001b[0m\u001b[0;36m1\u001b[0m\u001b[0;34m]\u001b[0m\u001b[0;34m]\u001b[0m\u001b[0;34m[\u001b[0m\u001b[0mroute\u001b[0m\u001b[0;34m[\u001b[0m\u001b[0;36m0\u001b[0m\u001b[0;34m]\u001b[0m\u001b[0;34m]\u001b[0m\u001b[0;34m\u001b[0m\u001b[0;34m\u001b[0m\u001b[0m\n\u001b[1;32m     10\u001b[0m         \u001b[0;32mreturn\u001b[0m \u001b[0;36m1\u001b[0m \u001b[0;34m/\u001b[0m \u001b[0mcost\u001b[0m\u001b[0;34m\u001b[0m\u001b[0;34m\u001b[0m\u001b[0m\n",
            "\u001b[0;32m<ipython-input-18-23f0fed60b48>\u001b[0m in \u001b[0;36m<genexpr>\u001b[0;34m(.0)\u001b[0m\n\u001b[1;32m      6\u001b[0m \u001b[0;34m\u001b[0m\u001b[0m\n\u001b[1;32m      7\u001b[0m     \u001b[0;32mdef\u001b[0m \u001b[0mcalculate_fitness\u001b[0m\u001b[0;34m(\u001b[0m\u001b[0mroute\u001b[0m\u001b[0;34m)\u001b[0m\u001b[0;34m:\u001b[0m\u001b[0;34m\u001b[0m\u001b[0;34m\u001b[0m\u001b[0m\n\u001b[0;32m----> 8\u001b[0;31m         \u001b[0mcost\u001b[0m \u001b[0;34m=\u001b[0m \u001b[0msum\u001b[0m\u001b[0;34m(\u001b[0m\u001b[0mgraph\u001b[0m\u001b[0;34m[\u001b[0m\u001b[0mroute\u001b[0m\u001b[0;34m[\u001b[0m\u001b[0mi\u001b[0m\u001b[0;34m]\u001b[0m\u001b[0;34m]\u001b[0m\u001b[0;34m[\u001b[0m\u001b[0mroute\u001b[0m\u001b[0;34m[\u001b[0m\u001b[0mi\u001b[0m \u001b[0;34m+\u001b[0m \u001b[0;36m1\u001b[0m\u001b[0;34m]\u001b[0m\u001b[0;34m]\u001b[0m \u001b[0;32mfor\u001b[0m \u001b[0mi\u001b[0m \u001b[0;32min\u001b[0m \u001b[0mrange\u001b[0m\u001b[0;34m(\u001b[0m\u001b[0mn\u001b[0m \u001b[0;34m-\u001b[0m \u001b[0;36m1\u001b[0m\u001b[0;34m)\u001b[0m\u001b[0;34m)\u001b[0m\u001b[0;34m\u001b[0m\u001b[0;34m\u001b[0m\u001b[0m\n\u001b[0m\u001b[1;32m      9\u001b[0m         \u001b[0mcost\u001b[0m \u001b[0;34m+=\u001b[0m \u001b[0mgraph\u001b[0m\u001b[0;34m[\u001b[0m\u001b[0mroute\u001b[0m\u001b[0;34m[\u001b[0m\u001b[0;34m-\u001b[0m\u001b[0;36m1\u001b[0m\u001b[0;34m]\u001b[0m\u001b[0;34m]\u001b[0m\u001b[0;34m[\u001b[0m\u001b[0mroute\u001b[0m\u001b[0;34m[\u001b[0m\u001b[0;36m0\u001b[0m\u001b[0;34m]\u001b[0m\u001b[0;34m]\u001b[0m\u001b[0;34m\u001b[0m\u001b[0;34m\u001b[0m\u001b[0m\n\u001b[1;32m     10\u001b[0m         \u001b[0;32mreturn\u001b[0m \u001b[0;36m1\u001b[0m \u001b[0;34m/\u001b[0m \u001b[0mcost\u001b[0m\u001b[0;34m\u001b[0m\u001b[0;34m\u001b[0m\u001b[0m\n",
            "\u001b[0;31mTypeError\u001b[0m: list indices must be integers or slices, not numpy.float64"
          ]
        }
      ]
    },
    {
      "cell_type": "markdown",
      "source": [
        "#Assignment-8"
      ],
      "metadata": {
        "id": "5BIrOXEcoob9"
      }
    },
    {
      "cell_type": "code",
      "source": [
        "def is_safe(vertex, graph, color, c):\n",
        "    for neighbor in graph[vertex]:\n",
        "        if color[neighbor] == c:\n",
        "            return False\n",
        "    return True\n",
        "\n",
        "def graph_coloring(graph, m, color, vertex):\n",
        "    if vertex == len(graph):\n",
        "        return True\n",
        "\n",
        "    for c in range(1, m + 1):\n",
        "        if is_safe(vertex, graph, color, c):\n",
        "            color[vertex] = c\n",
        "            if graph_coloring(graph, m, color, vertex + 1):\n",
        "                return True\n",
        "            color[vertex] = 0\n",
        "\n",
        "    return False\n",
        "\n",
        "def solve_graph_coloring(graph, m):\n",
        "    color = [0] * len(graph)\n",
        "\n",
        "    if graph_coloring(graph, m, color, 0):\n",
        "        return color\n",
        "    else:\n",
        "        return None\n",
        "\n",
        "# Example usage:\n",
        "graph = {\n",
        "    0: [1, 2],\n",
        "    1: [0, 2],\n",
        "    2: [0, 1]\n",
        "}\n",
        "\n",
        "num_colors = 3\n",
        "coloring_result = solve_graph_coloring(graph, num_colors)\n",
        "\n",
        "if coloring_result:\n",
        "    print(\"Graph coloring successful:\")\n",
        "    for vertex, color in enumerate(coloring_result):\n",
        "        print(f\"Vertex {vertex} is colored with color {color}\")\n",
        "else:\n",
        "    print(\"No valid coloring exists with the given number of colors.\")\n"
      ],
      "metadata": {
        "colab": {
          "base_uri": "https://localhost:8080/"
        },
        "id": "Wpn65ONxosQC",
        "outputId": "80678c6f-e7fa-49bb-d04f-b53f0601054e"
      },
      "execution_count": null,
      "outputs": [
        {
          "output_type": "stream",
          "name": "stdout",
          "text": [
            "Graph coloring successful:\n",
            "Vertex 0 is colored with color 1\n",
            "Vertex 1 is colored with color 2\n",
            "Vertex 2 is colored with color 3\n"
          ]
        }
      ]
    },
    {
      "cell_type": "markdown",
      "source": [
        "###Time Complexity:\n",
        "\n",
        "The worst-case time complexity of the backtracking algorithm for graph coloring is exponential, O(m^n), where n is the number of vertices and m is the number of colors.\n",
        "\n",
        "In practice, the actual running time may be much better than the worst case, especially if the graph is sparse and the coloring problem has a feasible solution.\n",
        "\n",
        "\n",
        "###Space Complexity:\n",
        "\n",
        "The space complexity is O(n), where n is the number of vertices. This is mainly due to the color array that stores the color assigned to each vertex."
      ],
      "metadata": {
        "id": "SFQICAVDozS4"
      }
    },
    {
      "cell_type": "markdown",
      "source": [
        "#Assignment-9"
      ],
      "metadata": {
        "id": "ebh6xjDkpCjS"
      }
    },
    {
      "cell_type": "markdown",
      "source": [
        "###Genetic Algorithm (GA):"
      ],
      "metadata": {
        "id": "YpSZLRAJpM-P"
      }
    },
    {
      "cell_type": "code",
      "source": [
        "import numpy as np\n",
        "\n",
        "def objective_function(x):\n",
        "    return x[0]**2 + x[1]**2\n",
        "\n",
        "def initialize_population(population_size, dimension):\n",
        "    return np.random.rand(population_size, dimension)\n",
        "\n",
        "def crossover(parent1, parent2):\n",
        "    crossover_point = np.random.randint(1, len(parent1) - 1)\n",
        "    child = np.concatenate((parent1[:crossover_point], parent2[crossover_point:]))\n",
        "    return child\n",
        "\n",
        "def mutate(individual, mutation_rate):\n",
        "    for i in range(len(individual)):\n",
        "        if np.random.rand() < mutation_rate:\n",
        "            individual[i] = np.random.rand()\n",
        "    return individual\n",
        "\n",
        "def ga_optimization(objective_function, dimension=2, population_size=50, generations=100, mutation_rate=0.1):\n",
        "    population = initialize_population(population_size, dimension)\n",
        "\n",
        "    for generation in range(generations):\n",
        "        fitness = [objective_function(ind) for ind in population]\n",
        "        sorted_indices = np.argsort(fitness)\n",
        "        sorted_population = population[sorted_indices]\n",
        "\n",
        "        # Select top 50% as parents\n",
        "        parents = sorted_population[:population_size // 2]\n",
        "\n",
        "        # Create offspring through crossover and mutation\n",
        "        offspring = []\n",
        "        for i in range(population_size // 2):\n",
        "            parent1, parent2 = np.random.choice(parents, size=2, replace=False)\n",
        "            child = crossover(parent1, parent2)\n",
        "            child = mutate(child, mutation_rate)\n",
        "            offspring.append(child)\n",
        "\n",
        "        population = np.vstack((parents, np.array(offspring)))\n",
        "\n",
        "    best_solution = population[0]\n",
        "    best_fitness = objective_function(best_solution)\n",
        "    return best_solution, best_fitness\n",
        "\n",
        "# Example usage:\n",
        "best_solution, best_fitness = ga_optimization(objective_function)\n",
        "print(\"Best solution:\", best_solution)\n",
        "print(\"Best fitness:\", best_fitness)\n"
      ],
      "metadata": {
        "colab": {
          "base_uri": "https://localhost:8080/",
          "height": 401
        },
        "id": "iZmUhQpqpHQV",
        "outputId": "0b47a7ba-7e54-42ff-931e-9a5d25883182"
      },
      "execution_count": null,
      "outputs": [
        {
          "output_type": "error",
          "ename": "ValueError",
          "evalue": "a must be 1-dimensional",
          "traceback": [
            "\u001b[0;31m---------------------------------------------------------------------------\u001b[0m",
            "\u001b[0;31mValueError\u001b[0m                                Traceback (most recent call last)",
            "\u001b[0;32m<ipython-input-17-ff9de2e76655>\u001b[0m in \u001b[0;36m<cell line: 46>\u001b[0;34m()\u001b[0m\n\u001b[1;32m     44\u001b[0m \u001b[0;34m\u001b[0m\u001b[0m\n\u001b[1;32m     45\u001b[0m \u001b[0;31m# Example usage:\u001b[0m\u001b[0;34m\u001b[0m\u001b[0;34m\u001b[0m\u001b[0m\n\u001b[0;32m---> 46\u001b[0;31m \u001b[0mbest_solution\u001b[0m\u001b[0;34m,\u001b[0m \u001b[0mbest_fitness\u001b[0m \u001b[0;34m=\u001b[0m \u001b[0mga_optimization\u001b[0m\u001b[0;34m(\u001b[0m\u001b[0mobjective_function\u001b[0m\u001b[0;34m)\u001b[0m\u001b[0;34m\u001b[0m\u001b[0;34m\u001b[0m\u001b[0m\n\u001b[0m\u001b[1;32m     47\u001b[0m \u001b[0mprint\u001b[0m\u001b[0;34m(\u001b[0m\u001b[0;34m\"Best solution:\"\u001b[0m\u001b[0;34m,\u001b[0m \u001b[0mbest_solution\u001b[0m\u001b[0;34m)\u001b[0m\u001b[0;34m\u001b[0m\u001b[0;34m\u001b[0m\u001b[0m\n\u001b[1;32m     48\u001b[0m \u001b[0mprint\u001b[0m\u001b[0;34m(\u001b[0m\u001b[0;34m\"Best fitness:\"\u001b[0m\u001b[0;34m,\u001b[0m \u001b[0mbest_fitness\u001b[0m\u001b[0;34m)\u001b[0m\u001b[0;34m\u001b[0m\u001b[0;34m\u001b[0m\u001b[0m\n",
            "\u001b[0;32m<ipython-input-17-ff9de2e76655>\u001b[0m in \u001b[0;36mga_optimization\u001b[0;34m(objective_function, dimension, population_size, generations, mutation_rate)\u001b[0m\n\u001b[1;32m     32\u001b[0m         \u001b[0moffspring\u001b[0m \u001b[0;34m=\u001b[0m \u001b[0;34m[\u001b[0m\u001b[0;34m]\u001b[0m\u001b[0;34m\u001b[0m\u001b[0;34m\u001b[0m\u001b[0m\n\u001b[1;32m     33\u001b[0m         \u001b[0;32mfor\u001b[0m \u001b[0mi\u001b[0m \u001b[0;32min\u001b[0m \u001b[0mrange\u001b[0m\u001b[0;34m(\u001b[0m\u001b[0mpopulation_size\u001b[0m \u001b[0;34m//\u001b[0m \u001b[0;36m2\u001b[0m\u001b[0;34m)\u001b[0m\u001b[0;34m:\u001b[0m\u001b[0;34m\u001b[0m\u001b[0;34m\u001b[0m\u001b[0m\n\u001b[0;32m---> 34\u001b[0;31m             \u001b[0mparent1\u001b[0m\u001b[0;34m,\u001b[0m \u001b[0mparent2\u001b[0m \u001b[0;34m=\u001b[0m \u001b[0mnp\u001b[0m\u001b[0;34m.\u001b[0m\u001b[0mrandom\u001b[0m\u001b[0;34m.\u001b[0m\u001b[0mchoice\u001b[0m\u001b[0;34m(\u001b[0m\u001b[0mparents\u001b[0m\u001b[0;34m,\u001b[0m \u001b[0msize\u001b[0m\u001b[0;34m=\u001b[0m\u001b[0;36m2\u001b[0m\u001b[0;34m,\u001b[0m \u001b[0mreplace\u001b[0m\u001b[0;34m=\u001b[0m\u001b[0;32mFalse\u001b[0m\u001b[0;34m)\u001b[0m\u001b[0;34m\u001b[0m\u001b[0;34m\u001b[0m\u001b[0m\n\u001b[0m\u001b[1;32m     35\u001b[0m             \u001b[0mchild\u001b[0m \u001b[0;34m=\u001b[0m \u001b[0mcrossover\u001b[0m\u001b[0;34m(\u001b[0m\u001b[0mparent1\u001b[0m\u001b[0;34m,\u001b[0m \u001b[0mparent2\u001b[0m\u001b[0;34m)\u001b[0m\u001b[0;34m\u001b[0m\u001b[0;34m\u001b[0m\u001b[0m\n\u001b[1;32m     36\u001b[0m             \u001b[0mchild\u001b[0m \u001b[0;34m=\u001b[0m \u001b[0mmutate\u001b[0m\u001b[0;34m(\u001b[0m\u001b[0mchild\u001b[0m\u001b[0;34m,\u001b[0m \u001b[0mmutation_rate\u001b[0m\u001b[0;34m)\u001b[0m\u001b[0;34m\u001b[0m\u001b[0;34m\u001b[0m\u001b[0m\n",
            "\u001b[0;32mmtrand.pyx\u001b[0m in \u001b[0;36mnumpy.random.mtrand.RandomState.choice\u001b[0;34m()\u001b[0m\n",
            "\u001b[0;31mValueError\u001b[0m: a must be 1-dimensional"
          ]
        }
      ]
    }
  ]
}